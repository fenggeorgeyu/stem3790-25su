{
 "cells": [
  {
   "cell_type": "code",
   "execution_count": 1,
   "metadata": {},
   "outputs": [
    {
     "name": "stdout",
     "output_type": "stream",
     "text": [
      "\r\n",
      "The following have been reloaded with a version change:\r\n",
      "  1) cuda/11.8.0 => cuda/10.2.89\r\n",
      "\r\n"
     ]
    }
   ],
   "source": [
    "# settings on osc gpu\n",
    "!module load cuda\n",
    "!module load pytorch"
   ]
  },
  {
   "cell_type": "code",
   "execution_count": 2,
   "metadata": {},
   "outputs": [],
   "source": [
    "#!pip3 install torch --user"
   ]
  },
  {
   "cell_type": "code",
   "execution_count": 3,
   "metadata": {},
   "outputs": [
    {
     "name": "stdout",
     "output_type": "stream",
     "text": [
      "_CudaDeviceProperties(name='Tesla V100-PCIE-16GB', major=7, minor=0, total_memory=16144MB, multi_processor_count=80, uuid=22a52d90-379f-7608-7f7f-3939cae88dfb, L2_cache_size=6MB)\n"
     ]
    }
   ],
   "source": [
    "# in osc use cuda 8.04\n",
    "# https://www.osc.edu/resources/available_software/software_list/torch\n",
    "import torch\n",
    "from torch.autograd import Variable\n",
    "import torch.nn as nn\n",
    "import torch.optim as optim\n",
    "import numpy as np\n",
    "import matplotlib.pyplot as plt\n",
    "if torch.cuda.is_available:\n",
    "    print(torch.cuda.get_device_properties(0))"
   ]
  },
  {
   "cell_type": "code",
   "execution_count": 4,
   "metadata": {
    "scrolled": true
   },
   "outputs": [
    {
     "name": "stdout",
     "output_type": "stream",
     "text": [
      "sizes: x_train: torch.Size([15, 1]), y_train: torch.Size([15, 1])\n"
     ]
    }
   ],
   "source": [
    "x_train = np.array([[3.3],[4.4],[5.5],[6.71],[6.93],[4.168],[9.779],\n",
    "                    [6.182],[7.59],[2.167],[7.042],[10.791],[5.313],[7.997],\n",
    "                    [3.1]],dtype=np.float32)\n",
    "y_train = np.array([[1.7],[2.76],[2.09],[3.19],[1.694],[1.573],\n",
    "                   [3.366],[2.596],[2.53],[1.221],[2.827],\n",
    "                   [3.465],[1.65],[2.904],[1.3]],dtype=np.float32)\n",
    "# print('sizes: x_train: {}, y_train: {}'.format(x_train.size,y_train.size))\n",
    "x_train = torch.from_numpy(x_train)\n",
    "y_train = torch.from_numpy(y_train)\n",
    "print('sizes: x_train: {}, y_train: {}'.format(x_train.size(),y_train.size()))"
   ]
  },
  {
   "cell_type": "code",
   "execution_count": 5,
   "metadata": {},
   "outputs": [],
   "source": [
    "class LinearRegression(nn.Module):\n",
    "    def __init__(self):\n",
    "        super(LinearRegression, self).__init__()\n",
    "        self.linear = nn.Linear(1,1) # input and output are 1 dimensional\n",
    "    def forward(self, x):\n",
    "        out = self.linear(x)\n",
    "        return out"
   ]
  },
  {
   "cell_type": "code",
   "execution_count": 6,
   "metadata": {},
   "outputs": [
    {
     "name": "stdout",
     "output_type": "stream",
     "text": [
      "Epoch 100/1000, loss = 0.195863\n",
      "Epoch 200/1000, loss = 0.194513\n",
      "Epoch 300/1000, loss = 0.193231\n",
      "Epoch 400/1000, loss = 0.192014\n",
      "Epoch 500/1000, loss = 0.190857\n",
      "Epoch 600/1000, loss = 0.189758\n",
      "Epoch 700/1000, loss = 0.188715\n",
      "Epoch 800/1000, loss = 0.187723\n",
      "Epoch 900/1000, loss = 0.186781\n",
      "Epoch 1000/1000, loss = 0.185887\n",
      "CPU times: user 1.56 s, sys: 274 ms, total: 1.83 s\n",
      "Wall time: 2.34 s\n"
     ]
    }
   ],
   "source": [
    "%%time\n",
    "if torch.cuda.is_available():\n",
    "    model=LinearRegression().cuda()\n",
    "else:\n",
    "    model=LinearRegression()\n",
    "criterion = nn.MSELoss()\n",
    "optimizer = optim.SGD(model.parameters(), lr=1e-3)\n",
    "\n",
    "if torch.cuda.is_available():\n",
    "    inputs = Variable(x_train).cuda()\n",
    "    targets = Variable(y_train).cuda()\n",
    "else:\n",
    "    inputs = Variable(x_train)\n",
    "    targets = Variable(y_train)\n",
    "\n",
    "# training\n",
    "num_epochs=10**3\n",
    "for epoch in range(num_epochs):\n",
    "#     if torch.cuda.is_available():\n",
    "#         inputs = Variable(x_train).cuda()\n",
    "#         targets = Variable(y_train).cuda()\n",
    "#     else:\n",
    "#         inputs = Variable(x_train)\n",
    "#         targets = Variable(y_train)\n",
    "    # forward\n",
    "    out = model(inputs)\n",
    "    loss = criterion(out, targets)\n",
    "    # backward\n",
    "    optimizer.zero_grad() # zero all grads\n",
    "    loss.backward()\n",
    "    optimizer.step()\n",
    "    # each time the loss is different\n",
    "    if (epoch+1) % (num_epochs/10) == 0:\n",
    "        print('Epoch {}/{}, loss = {:.6f}'.format((epoch+1), num_epochs, loss.data))"
   ]
  },
  {
   "cell_type": "code",
   "execution_count": 7,
   "metadata": {
    "scrolled": true
   },
   "outputs": [
    {
     "data": {
      "image/png": "[encoded data removed]",
      "text/plain": [
       "<Figure size 432x288 with 1 Axes>"
      ]
     },
     "metadata": {
      "needs_background": "light"
     },
     "output_type": "display_data"
    }
   ],
   "source": [
    "# print results\n",
    "model.eval()\n",
    "predict = model(inputs).cpu()\n",
    "predict = predict.data.numpy()\n",
    "plt.plot(x_train.numpy(), y_train.numpy(),'ro',label='original data')\n",
    "plt.plot(x_train.numpy(), predict, label='predict')\n",
    "plt.legend()\n",
    "plt.show()"
   ]
  },
  {
   "cell_type": "code",
   "execution_count": null,
   "metadata": {},
   "outputs": [],
   "source": []
  }
 ],
 "metadata": {
  "kernelspec": {
   "display_name": "Python 3.9 (Conda 2022.05) [python/3.9-2022.05]",
   "language": "python",
   "name": "python39_202205"
  },
  "language_info": {
   "codemirror_mode": {
    "name": "ipython",
    "version": 3
   },
   "file_extension": ".py",
   "mimetype": "text/x-python",
   "name": "python",
   "nbconvert_exporter": "python",
   "pygments_lexer": "ipython3",
   "version": "3.9.12"
  }
 },
 "nbformat": 4,
 "nbformat_minor": 2
}
