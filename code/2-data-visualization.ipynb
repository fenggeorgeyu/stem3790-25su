{
 "cells": [
  {
   "cell_type": "markdown",
   "id": "13d373ab",
   "metadata": {},
   "source": [
    "*This notebook contains an excerpt from the [Python Data Science Handbook](http://shop.oreilly.com/product/0636920034919.do) by Jake VanderPlas; the content is available [on GitHub](https://github.com/jakevdp/PythonDataScienceHandbook).*\n",
    "\n",
    "# Data Visualization\n",
    "Data visualization is the process to plot the data into figures and provide the data scientist multiple direct view of the data under analysis. Python provides a useful tool called `matplotlib` for this purpose. Knowing how to use this package will satisfy most of your everyday needs for data visualization.\n",
    "\n"
   ]
  },
  {
   "cell_type": "markdown",
   "id": "799b6e26",
   "metadata": {},
   "source": [
    "# Visualization with Matplotlib"
   ]
  },
  {
   "cell_type": "markdown",
   "id": "14794954",
   "metadata": {},
   "source": [
    "It was conceived by John Hunter in 2002, originally as a patch to IPython for enabling interactive MATLAB-style plotting via gnuplot from the IPython command line.\n",
    "IPython's creator, Fernando Perez, was at the time scrambling to finish his PhD, and let John know he wouldn’t have time to review the patch for several months.\n",
    "John took this as a cue to set out on his own, and the Matplotlib package was born, with version 0.1 released in 2003.\n",
    "It received an early boost when it was adopted as the plotting package of choice of the Space Telescope Science Institute (the folks behind the Hubble Telescope), which financially supported Matplotlib’s development and greatly expanded its capabilities.\n",
    "\n",
    "One of Matplotlib’s most important features is its ability to play well with many operating systems and graphics backends.\n",
    "Matplotlib supports dozens of backends and output types, which means you can count on it to work regardless of which operating system you are using or which output format you wish.\n",
    "This cross-platform, everything-to-everyone approach has been one of the great strengths of Matplotlib.\n",
    "It has led to a large user base, which in turn has led to an active developer base and Matplotlib’s powerful tools and ubiquity within the scientific Python world.\n",
    "\n",
    "In recent years, however, the interface and style of Matplotlib have begun to show their age.\n",
    "Newer tools like ggplot and ggvis in the R language, along with web visualization toolkits based on D3js and HTML5 canvas, often make Matplotlib feel clunky and old-fashioned.\n",
    "Still, I'm of the opinion that we cannot ignore Matplotlib's strength as a well-tested, cross-platform graphics engine.\n",
    "Recent Matplotlib versions make it relatively easy to set new global plotting styles (see [Customizing Matplotlib: Configurations and Style Sheets](04.11-Settings-and-Stylesheets.ipynb)), and people have been developing new packages that build on its powerful internals to drive Matplotlib via cleaner, more modern APIs—for example, Seaborn (discussed in [Visualization With Seaborn](04.14-Visualization-With-Seaborn.ipynb)), [ggpy](http://yhat.github.io/ggpy/), [HoloViews](http://holoviews.org/), [Altair](http://altair-viz.github.io/), and even Pandas itself can be used as wrappers around Matplotlib's API.\n",
    "Even with wrappers like these, it is still often useful to dive into Matplotlib's syntax to adjust the final plot output.\n",
    "For this reason, I believe that Matplotlib itself will remain a vital piece of the data visualization stack, even if new tools mean the community gradually moves away from using the Matplotlib API directly."
   ]
  },
  {
   "cell_type": "markdown",
   "id": "c4d13887",
   "metadata": {},
   "source": [
    "### Importing Matplotlib\n",
    "\n",
    "Just as we use the ``np`` shorthand for NumPy and the ``pd`` shorthand for Pandas, we will use some standard shorthands for Matplotlib imports:"
   ]
  },
  {
   "cell_type": "code",
   "execution_count": null,
   "id": "0d0bec24",
   "metadata": {},
   "outputs": [],
   "source": [
    "import numpy as np\n",
    "import matplotlib as mpl\n",
    "import matplotlib.pyplot as plt"
   ]
  },
  {
   "cell_type": "markdown",
   "id": "81877bc0",
   "metadata": {},
   "source": [
    "The ``plt`` interface is what we will use most often, as we shall see throughout this chapter."
   ]
  },
  {
   "cell_type": "code",
   "execution_count": null,
   "id": "88d5999f-d464-4dae-971d-62a595788982",
   "metadata": {},
   "outputs": [],
   "source": [
    "# !pip3 install IPython\n",
    "# !pip3 install ipympl\n",
    "#!pip3 install nodejs-bin\n",
    "# %matplotlib widget\n",
    "#%matplotlib notebook\n",
    "%matplotlib inline\n"
   ]
  },
  {
   "cell_type": "code",
   "execution_count": null,
   "id": "f0e5e9da-47b0-4f21-9b2d-7f7e5334a864",
   "metadata": {},
   "outputs": [],
   "source": [
    "# a first example \n",
    "# https://matplotlib.org/stable/plot_types/3D/surface3d_simple.html#sphx-glr-plot-types-3d-surface3d-simple-py\n",
    "\n",
    "from matplotlib import cm\n",
    "\n",
    "plt.style.use('_mpl-gallery')\n",
    "\n",
    "# Make data\n",
    "X = np.arange(-5, 5, 0.25)\n",
    "Y = np.arange(-5, 5, 0.25)\n",
    "X, Y = np.meshgrid(X, Y)\n",
    "R = np.sqrt(X**2 + Y**2)\n",
    "Z = np.sin(R)\n",
    "\n",
    "# Plot the surface\n",
    "fig, ax = plt.subplots(subplot_kw={\"projection\": \"3d\"})\n",
    "ax.plot_surface(X, Y, Z, vmin=Z.min() * 2, cmap=cm.Blues)\n",
    "\n",
    "ax.set(xticklabels=[],\n",
    "       yticklabels=[],\n",
    "       zticklabels=[])\n",
    "\n",
    "plt.show()"
   ]
  },
  {
   "cell_type": "markdown",
   "id": "9e765c41",
   "metadata": {},
   "source": [
    "#### Plotting from an IPython notebook\n",
    "\n",
    "The IPython notebook is a browser-based interactive data analysis tool that can combine narrative, code, graphics, HTML elements, and much more into a single executable document (see [IPython: Beyond Normal Python](01.00-IPython-Beyond-Normal-Python.ipynb)).\n",
    "\n",
    "Plotting interactively within an IPython notebook can be done with the ``%matplotlib`` command, and works in a similar way to the IPython shell.\n",
    "In the IPython notebook, you also have the option of embedding graphics directly in the notebook, with two possible options:\n",
    "\n",
    "- ``%matplotlib notebook`` will lead to *interactive* plots embedded within the notebook\n",
    "- ``%matplotlib inline`` will lead to *static* images of your plot embedded in the notebook\n",
    "\n",
    "For this book, we will generally opt for ``%matplotlib inline``:"
   ]
  },
  {
   "cell_type": "code",
   "execution_count": null,
   "id": "c941b2b8",
   "metadata": {},
   "outputs": [],
   "source": [
    "%matplotlib inline"
   ]
  },
  {
   "cell_type": "markdown",
   "id": "6a1d49a0",
   "metadata": {},
   "source": [
    "After running this command (it needs to be done only once per kernel/session), any cell within the notebook that creates a plot will embed a PNG image of the resulting graphic:"
   ]
  },
  {
   "cell_type": "code",
   "execution_count": null,
   "id": "bdb5a044",
   "metadata": {},
   "outputs": [],
   "source": [
    "import numpy as np\n",
    "x = np.linspace(0, 10, 100)\n",
    "\n",
    "fig = plt.figure()\n",
    "plt.style.use('classic') #set plot style to 'classic'\n",
    "plt.plot(x, np.sin(x), '-')"
   ]
  },
  {
   "cell_type": "markdown",
   "id": "1bcde568",
   "metadata": {},
   "source": [
    "<p style=\"color:red;font-size:30px\">Your turn 1</p>\n",
    "\n",
    "Use `plt.plot(x, np.cos(x), '--')` to plot cos function using same setting as the above example."
   ]
  },
  {
   "cell_type": "code",
   "execution_count": null,
   "id": "47809290",
   "metadata": {},
   "outputs": [],
   "source": []
  },
  {
   "cell_type": "markdown",
   "id": "2af053bb",
   "metadata": {},
   "source": [
    "### Saving Figures to File\n",
    "\n",
    "One nice feature of Matplotlib is the ability to save figures in a wide variety of formats.\n",
    "Saving a figure can be done using the ``savefig()`` command.\n",
    "For example, to save the previous figure as a PNG file, you can run this:"
   ]
  },
  {
   "cell_type": "code",
   "execution_count": null,
   "id": "af8e532f",
   "metadata": {},
   "outputs": [],
   "source": [
    "fig.savefig('my_figure.png')"
   ]
  },
  {
   "cell_type": "markdown",
   "id": "117aec22",
   "metadata": {},
   "source": [
    "We now have a file called ``my_figure.png`` in the current working directory:"
   ]
  },
  {
   "cell_type": "code",
   "execution_count": null,
   "id": "bdb3a661",
   "metadata": {},
   "outputs": [],
   "source": [
    "!ls -lh my_figure.png"
   ]
  },
  {
   "cell_type": "markdown",
   "id": "267b7658",
   "metadata": {},
   "source": [
    "To confirm that it contains what we think it contains, let's use the IPython ``Image`` object to display the contents of this file:"
   ]
  },
  {
   "cell_type": "code",
   "execution_count": null,
   "id": "6ccc37d3",
   "metadata": {},
   "outputs": [],
   "source": [
    "from IPython.display import Image\n",
    "Image('my_figure.png')"
   ]
  },
  {
   "cell_type": "markdown",
   "id": "786e0c2a",
   "metadata": {},
   "source": [
    "## Labeling Plots\n",
    "\n",
    "As the last piece of this section, we'll briefly look at the labeling of plots: titles, axis labels, and simple legends.\n",
    "\n",
    "Titles and axis labels are the simplest such labels—there are methods that can be used to quickly set them:"
   ]
  },
  {
   "cell_type": "code",
   "execution_count": null,
   "id": "5a547a03",
   "metadata": {},
   "outputs": [],
   "source": [
    "plt.plot(x, np.sin(x))\n",
    "plt.title(\"A Sine Curve\")\n",
    "plt.xlabel(\"x\")\n",
    "plt.ylabel(\"sin(x)\");"
   ]
  },
  {
   "cell_type": "markdown",
   "id": "ea6459ac",
   "metadata": {},
   "source": [
    "The position, size, and style of these labels can be adjusted using optional arguments to the function.\n",
    "For more information, see the Matplotlib documentation and the docstrings of each of these functions."
   ]
  },
  {
   "cell_type": "markdown",
   "id": "0b5971dc",
   "metadata": {},
   "source": [
    "When multiple lines are being shown within a single axes, it can be useful to create a plot legend that labels each line type.\n",
    "Again, Matplotlib has a built-in way of quickly creating such a legend.\n",
    "It is done via the (you guessed it) ``plt.legend()`` method.\n",
    "Though there are several valid ways of using this, I find it easiest to specify the label of each line using the ``label`` keyword of the plot function:"
   ]
  },
  {
   "cell_type": "code",
   "execution_count": null,
   "id": "f030fa10",
   "metadata": {},
   "outputs": [],
   "source": [
    "plt.plot(x, np.sin(x), '-g', label='sin(x)')\n",
    "plt.plot(x, np.cos(x), ':b', label='cos(x)')\n",
    "plt.axis('equal')\n",
    "\n",
    "plt.legend();"
   ]
  },
  {
   "cell_type": "markdown",
   "id": "65ad76b1",
   "metadata": {},
   "source": [
    "As you can see, the ``plt.legend()`` function keeps track of the line style and color, and matches these with the correct label.\n",
    "More information on specifying and formatting plot legends can be found in the ``plt.legend`` docstring; additionally, we will cover some more advanced legend options in [Customizing Plot Legends](04.06-Customizing-Legends.ipynb)."
   ]
  },
  {
   "cell_type": "markdown",
   "id": "313bcfc5",
   "metadata": {},
   "source": [
    "# Simple Scatter Plots"
   ]
  },
  {
   "cell_type": "markdown",
   "id": "23dc0929",
   "metadata": {},
   "source": [
    "Another commonly used plot type is the simple scatter plot, a close cousin of the line plot.\n",
    "Instead of points being joined by line segments, here the points are represented individually with a dot, circle, or other shape.\n",
    "We’ll start by setting up the notebook for plotting and importing the functions we will use:"
   ]
  },
  {
   "cell_type": "code",
   "execution_count": null,
   "id": "18fc73a0",
   "metadata": {},
   "outputs": [],
   "source": [
    "#%matplotlib inline\n",
    "import matplotlib.pyplot as plt\n",
    "#plt.style.use('seaborn-whitegrid')\n",
    "import numpy as np"
   ]
  },
  {
   "cell_type": "markdown",
   "id": "a1dd29f5",
   "metadata": {},
   "source": [
    "## Scatter Plots with ``plt.plot``\n",
    "\n",
    "In the previous section we looked at ``plt.plot``/``ax.plot`` to produce line plots.\n",
    "It turns out that this same function can produce scatter plots as well:"
   ]
  },
  {
   "cell_type": "code",
   "execution_count": null,
   "id": "b462ca9c",
   "metadata": {},
   "outputs": [],
   "source": [
    "x = np.linspace(0, 10, 30)\n",
    "y = np.sin(x)\n",
    "\n",
    "plt.plot(x, y, 'o', color='black');"
   ]
  },
  {
   "cell_type": "markdown",
   "id": "1ce260d0",
   "metadata": {},
   "source": [
    "The third argument in the function call is a character that represents the type of symbol used for the plotting. Just as you can specify options such as ``'-'``, ``'--'`` to control the line style, the marker style has its own set of short string codes. The full list of available symbols can be seen in the documentation of ``plt.plot``, or in Matplotlib's online documentation. Most of the possibilities are fairly intuitive, and we'll show a number of the more common ones here:"
   ]
  },
  {
   "cell_type": "markdown",
   "id": "612f555d",
   "metadata": {},
   "source": [
    "The primary difference of ``plt.scatter`` from ``plt.plot`` is that it can be used to create scatter plots where the properties of each individual point (size, face color, edge color, etc.) can be individually controlled or mapped to data.\n",
    "\n",
    "Let's show this by creating a random scatter plot with points of many colors and sizes.\n",
    "In order to better see the overlapping results, we'll also use the ``alpha`` keyword to adjust the transparency level:"
   ]
  },
  {
   "cell_type": "code",
   "execution_count": null,
   "id": "a07b95d3",
   "metadata": {},
   "outputs": [],
   "source": [
    "rng = np.random.RandomState(0)\n",
    "x = rng.randn(100)\n",
    "y = rng.randn(100)\n",
    "colors = rng.rand(100)\n",
    "sizes = 1000 * rng.rand(100)\n",
    "\n",
    "plt.scatter(x, y, c=colors, s=sizes, alpha=0.3,\n",
    "            cmap='viridis')\n",
    "plt.colorbar();  # show color scale"
   ]
  },
  {
   "cell_type": "markdown",
   "id": "7a6120a0",
   "metadata": {},
   "source": [
    "<p style=\"color:red;font-size:30px\">Your turn 2</p>\n",
    "\n",
    "Scatter plot `cos` function using same setting as the above example.  \n",
    "Hint: use `np.cos`"
   ]
  },
  {
   "cell_type": "code",
   "execution_count": null,
   "id": "4954f513",
   "metadata": {},
   "outputs": [],
   "source": []
  },
  {
   "cell_type": "markdown",
   "id": "832bb0c1",
   "metadata": {},
   "source": [
    "# Histograms, Binnings, and Density"
   ]
  },
  {
   "cell_type": "markdown",
   "id": "1ef6d9e5",
   "metadata": {},
   "source": [
    "A simple histogram can be a great first step in understanding a dataset.\n",
    "Earlier, we saw a preview of Matplotlib's histogram function (see [Comparisons, Masks, and Boolean Logic](02.06-Boolean-Arrays-and-Masks.ipynb)), which creates a basic histogram in one line, once the normal boiler-plate imports are done:"
   ]
  },
  {
   "cell_type": "code",
   "execution_count": null,
   "id": "0dfd7b26",
   "metadata": {},
   "outputs": [],
   "source": [
    "#%matplotlib inline\n",
    "import numpy as np\n",
    "import matplotlib.pyplot as plt\n",
    "\n",
    "data = np.random.randn(1000)"
   ]
  },
  {
   "cell_type": "code",
   "execution_count": null,
   "id": "8d8c1092",
   "metadata": {},
   "outputs": [],
   "source": [
    "plt.hist(data);"
   ]
  },
  {
   "cell_type": "markdown",
   "id": "5ffef2d2",
   "metadata": {},
   "source": [
    "The ``hist()`` function has many options to tune both the calculation and the display; \n",
    "here's an example of a more customized histogram:"
   ]
  },
  {
   "cell_type": "markdown",
   "id": "105fc850",
   "metadata": {},
   "source": [
    "<p style=\"color:red;font-size:30px\">Your turn 3</p>\n",
    "\n",
    "Plot the histogram for the `data = np.random.normal(0, 0.8, 1000)`."
   ]
  },
  {
   "cell_type": "code",
   "execution_count": null,
   "id": "82b2a1aa",
   "metadata": {},
   "outputs": [],
   "source": []
  },
  {
   "cell_type": "markdown",
   "id": "11879834",
   "metadata": {},
   "source": [
    "# Seaborn package\n",
    "[Seaborn](http://seaborn.pydata.org/). Seaborn provides an API on top of Matplotlib that offers sane choices for plot style and color defaults, defines simple high-level functions for common statistical plot types.\n",
    "\n",
    "Seaborn has many of its own high-level plotting routines, but it can also overwrite Matplotlib's default parameters and in turn get even simple Matplotlib scripts to produce vastly superior output."
   ]
  },
  {
   "cell_type": "markdown",
   "id": "e31958e3",
   "metadata": {},
   "source": [
    "To install seaborn package inside jupyter notebook use the following command."
   ]
  },
  {
   "cell_type": "code",
   "execution_count": null,
   "id": "f8224daf",
   "metadata": {},
   "outputs": [],
   "source": [
    "!pip3 install seaborn"
   ]
  },
  {
   "cell_type": "markdown",
   "id": "ed05b7c8",
   "metadata": {},
   "source": [
    "To load seaborn package just use `import` command. By convention, Seaborn is imported as ``sns``. "
   ]
  },
  {
   "cell_type": "code",
   "execution_count": null,
   "id": "13717edc",
   "metadata": {},
   "outputs": [],
   "source": [
    "import seaborn as sns"
   ]
  },
  {
   "cell_type": "markdown",
   "id": "1752e3b0",
   "metadata": {},
   "source": [
    "### Pair plots\n",
    "\n",
    "When you generalize joint plots to datasets of larger dimensions, you end up with *pair plots*. This is very useful for exploring correlations between multidimensional data, when you'd like to plot all pairs of values against each other.\n",
    "\n",
    "We'll demo this with the well-known Iris dataset, which lists measurements of petals and sepals of three iris species:"
   ]
  },
  {
   "cell_type": "code",
   "execution_count": null,
   "id": "dcb2ec95",
   "metadata": {},
   "outputs": [],
   "source": [
    "iris = sns.load_dataset(\"iris\")\n",
    "iris.head()"
   ]
  },
  {
   "cell_type": "markdown",
   "id": "07d72c4a",
   "metadata": {},
   "source": [
    "Visualizing the multidimensional relationships among the samples is as easy as calling ``sns.pairplot``:"
   ]
  },
  {
   "cell_type": "code",
   "execution_count": null,
   "id": "91ce31d2",
   "metadata": {},
   "outputs": [],
   "source": [
    "sns.pairplot(iris, hue='species', size=2.5);"
   ]
  },
  {
   "cell_type": "code",
   "execution_count": null,
   "id": "9142a26a",
   "metadata": {},
   "outputs": [],
   "source": []
  }
 ],
 "metadata": {
  "kernelspec": {
   "display_name": "Python 3 (ipykernel)",
   "language": "python",
   "name": "python3"
  },
  "language_info": {
   "codemirror_mode": {
    "name": "ipython",
    "version": 3
   },
   "file_extension": ".py",
   "mimetype": "text/x-python",
   "name": "python",
   "nbconvert_exporter": "python",
   "pygments_lexer": "ipython3",
   "version": "3.9.20"
  }
 },
 "nbformat": 4,
 "nbformat_minor": 5
}
