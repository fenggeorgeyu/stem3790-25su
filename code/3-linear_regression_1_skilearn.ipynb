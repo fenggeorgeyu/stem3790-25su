{
 "cells": [
  {
   "cell_type": "markdown",
   "id": "49ecd726",
   "metadata": {},
   "source": [
    "*This notebook contains an excerpt from the [Python Data Science Handbook](http://shop.oreilly.com/product/0636920034919.do) by Jake VanderPlas; the content is available [on GitHub](https://github.com/jakevdp/PythonDataScienceHandbook).*\n",
    "\n",
    "# Linear Regression"
   ]
  },
  {
   "cell_type": "markdown",
   "id": "6351dc4e",
   "metadata": {},
   "source": [
    "Linear regression is a basic predictive modeling method which use a simple line to \"best\" fit a given set of data.\n",
    "\n",
    "![Linear Regression Example](https://upload.wikimedia.org/wikipedia/commons/3/3a/Linear_regression.svg) (from wikipedia)\n",
    "\n",
    "In this tutorial we will start with a quick intuitive walk-through of the mathematics behind this well-known problem, before seeing how before moving on to see how linear models can be generalized to account for more complicated patterns in data.\n",
    "\n",
    "We begin with the standard imports:"
   ]
  },
  {
   "cell_type": "code",
   "execution_count": 1,
   "id": "14ab53e2",
   "metadata": {},
   "outputs": [],
   "source": [
    "# make sure to use kernel 3.9\n",
    "%matplotlib inline\n",
    "import matplotlib.pyplot as plt\n",
    "import seaborn as sns; sns.set()\n",
    "import numpy as np"
   ]
  },
  {
   "cell_type": "markdown",
   "id": "5c908f3f",
   "metadata": {},
   "source": [
    "## Simple Linear Regression\n",
    "\n",
    "We will start with the most familiar linear regression, a straight-line fit to data.\n",
    "A straight-line fit is a model of the form\n",
    "$$\n",
    "y = ax + b\n",
    "$$\n",
    "where $a$ is commonly known as the *slope*, and $b$ is commonly known as the *intercept*.\n",
    "\n",
    "Consider the following data, which is scattered about a line with a slope of 2 and an intercept of -5:"
   ]
  },
  {
   "cell_type": "code",
   "execution_count": 2,
   "id": "1ce7c04c",
   "metadata": {},
   "outputs": [
    {
     "data": {
      "text/plain": [
       "<matplotlib.collections.PathCollection at 0x2b40a5b9f2b0>"
      ]
     },
     "execution_count": 2,
     "metadata": {},
     "output_type": "execute_result"
    },
    {
     "data": {
      "image/png": "[encoded data removed]",
      "text/plain": [
       "<Figure size 432x288 with 1 Axes>"
      ]
     },
     "metadata": {},
     "output_type": "display_data"
    }
   ],
   "source": [
    "rng = np.random.RandomState(1)\n",
    "x = 10 * rng.rand(50)\n",
    "y = 2 * x - 5 + rng.randn(50)\n",
    "plt.scatter(x, y)"
   ]
  },
  {
   "cell_type": "markdown",
   "id": "3f630630",
   "metadata": {},
   "source": [
    "We can use Scikit-Learn's ``LinearRegression`` estimator to fit this data and construct the best-fit line:"
   ]
  },
  {
   "cell_type": "code",
   "execution_count": 5,
   "id": "a82d38ef",
   "metadata": {},
   "outputs": [
    {
     "data": {
      "image/png": "[encoded data removed]",
      "text/plain": [
       "<Figure size 432x288 with 1 Axes>"
      ]
     },
     "metadata": {},
     "output_type": "display_data"
    }
   ],
   "source": [
    "from sklearn.linear_model import LinearRegression\n",
    "model = LinearRegression(fit_intercept=True)\n",
    "\n",
    "model.fit(x[:, np.newaxis], y)\n",
    "\n",
    "xfit = np.linspace(0, 10, 1000)\n",
    "yfit = model.predict(xfit[:, np.newaxis])\n",
    "\n",
    "plt.scatter(x, y,alpha=0.3)\n",
    "plt.plot(xfit, yfit,color='red');"
   ]
  },
  {
   "cell_type": "markdown",
   "id": "0e809d87",
   "metadata": {},
   "source": [
    "The slope and intercept of the data are contained in the model's fit parameters, which in Scikit-Learn are always marked by a trailing underscore.\n",
    "Here the relevant parameters are ``coef_`` and ``intercept_``:"
   ]
  },
  {
   "cell_type": "code",
   "execution_count": 6,
   "id": "1796c7e5",
   "metadata": {},
   "outputs": [
    {
     "name": "stdout",
     "output_type": "stream",
     "text": [
      "Model slope:     2.027208810360695\n",
      "Model intercept: -4.998577085553202\n"
     ]
    }
   ],
   "source": [
    "print(\"Model slope:    \", model.coef_[0])\n",
    "print(\"Model intercept:\", model.intercept_)"
   ]
  },
  {
   "cell_type": "markdown",
   "id": "2464b692",
   "metadata": {},
   "source": [
    "The predicting linear model is:\n",
    "\n",
    "$$y=2.027208810360696 x-4.9985770855532055$$\n",
    "\n",
    "We see that the results are very close to the inputs, as we might hope."
   ]
  },
  {
   "cell_type": "markdown",
   "id": "fea7ff34",
   "metadata": {},
   "source": [
    "The ``LinearRegression`` estimator is much more capable than this, however—in addition to simple straight-line fits, it can also handle multidimensional linear models of the form\n",
    "$$\n",
    "y = a_0 + a_1 x_1 + a_2 x_2 + \\cdots\n",
    "$$\n",
    "where there are multiple $x$ values.\n",
    "Geometrically, this is akin to fitting a plane to points in three dimensions, or fitting a hyper-plane to points in higher dimensions.\n",
    "\n",
    "The multidimensional nature of such regressions makes them more difficult to visualize, but we can see one of these fits in action by building some example data, using NumPy's matrix multiplication operator:"
   ]
  },
  {
   "cell_type": "code",
   "execution_count": 7,
   "id": "c86f1208",
   "metadata": {},
   "outputs": [
    {
     "name": "stdout",
     "output_type": "stream",
     "text": [
      "[[4.17022005e+00 7.20324493e+00 1.14374817e-03]\n",
      " [3.02332573e+00 1.46755891e+00 9.23385948e-01]\n",
      " [1.86260211e+00 3.45560727e+00 3.96767474e+00]\n",
      " [5.38816734e+00 4.19194514e+00 6.85219500e+00]\n",
      " [2.04452250e+00 8.78117436e+00 2.73875932e-01]\n",
      " [6.70467510e+00 4.17304802e+00 5.58689828e+00]\n",
      " [1.40386939e+00 1.98101489e+00 8.00744569e+00]\n",
      " [9.68261576e+00 3.13424178e+00 6.92322616e+00]\n",
      " [8.76389152e+00 8.94606664e+00 8.50442114e-01]\n",
      " [3.90547832e-01 1.69830420e+00 8.78142503e+00]\n",
      " [9.83468338e-01 4.21107625e+00 9.57889530e+00]\n",
      " [5.33165285e+00 6.91877114e+00 3.15515631e+00]\n",
      " [6.86500928e+00 8.34625672e+00 1.82882773e-01]\n",
      " [7.50144315e+00 9.88861089e+00 7.48165654e+00]\n",
      " [2.80443992e+00 7.89279328e+00 1.03226007e+00]\n",
      " [4.47893526e+00 9.08595503e+00 2.93614148e+00]\n",
      " [2.87775339e+00 1.30028572e+00 1.93669579e-01]\n",
      " [6.78835533e+00 2.11628116e+00 2.65546659e+00]\n",
      " [4.91573159e+00 5.33625451e-01 5.74117605e+00]\n",
      " [1.46728575e+00 5.89305537e+00 6.99758360e+00]\n",
      " [1.02334429e+00 4.14055988e+00 6.94400158e+00]\n",
      " [4.14179270e+00 4.99534589e-01 5.35896406e+00]\n",
      " [6.63794645e+00 5.14889112e+00 9.44594756e+00]\n",
      " [5.86555041e+00 9.03401915e+00 1.37474704e+00]\n",
      " [1.39276347e+00 8.07391289e+00 3.97676837e+00]\n",
      " [1.65354197e+00 9.27508580e+00 3.47765860e+00]\n",
      " [7.50812103e+00 7.25997985e+00 8.83306091e+00]\n",
      " [6.23672207e+00 7.50942434e+00 3.48898342e+00]\n",
      " [2.69927892e+00 8.95886218e+00 4.28091190e+00]\n",
      " [9.64840047e+00 6.63441498e+00 6.21695720e+00]\n",
      " [1.14745973e+00 9.49489259e+00 4.49912133e+00]\n",
      " [5.78389614e+00 4.08136803e+00 2.37026980e+00]\n",
      " [9.03379521e+00 5.73679487e+00 2.87032703e-02]\n",
      " [6.17144914e+00 3.26644902e+00 5.27058102e+00]\n",
      " [8.85942099e+00 3.57269760e+00 9.08535151e+00]\n",
      " [6.23360116e+00 1.58212428e-01 9.29437234e+00]\n",
      " [6.90896918e+00 9.97322850e+00 1.72340508e+00]\n",
      " [1.37135750e+00 9.32595463e+00 6.96818161e+00]\n",
      " [6.60001727e-01 7.55463053e+00 7.53876188e+00]\n",
      " [9.23024536e+00 7.11524759e+00 1.24270962e+00]\n",
      " [1.98801338e-01 2.62109869e-01 2.83064880e-01]\n",
      " [2.46211068e+00 8.60027949e+00 5.38831064e+00]\n",
      " [5.52821979e+00 8.42030892e+00 1.24173315e+00]\n",
      " [2.79183679e+00 5.85759271e+00 9.69595748e+00]\n",
      " [5.61030219e+00 1.86472894e-01 8.00632673e+00]\n",
      " [2.32974274e+00 8.07105196e+00 3.87860644e+00]\n",
      " [8.63541855e+00 7.47121643e+00 5.56240234e+00]\n",
      " [1.36455226e+00 5.99176895e-01 1.21343456e+00]\n",
      " [4.45518785e-01 1.07494129e+00 2.25709339e+00]\n",
      " [7.12988980e+00 5.59716982e+00 1.25559802e-01]\n",
      " [7.19742797e-01 9.67276330e+00 5.68100462e+00]\n",
      " [2.03293235e+00 2.52325745e+00 7.43825854e+00]\n",
      " [1.95429481e+00 5.81358927e+00 9.70019989e+00]\n",
      " [8.46828801e+00 2.39847759e+00 4.93769714e+00]\n",
      " [6.19955718e+00 8.28980900e+00 1.56791395e+00]\n",
      " [1.85762022e-01 7.00221437e-01 4.86345111e+00]\n",
      " [6.06329462e+00 5.68851437e+00 3.17362409e+00]\n",
      " [9.88616154e+00 5.79745219e+00 3.80141173e+00]\n",
      " [5.50948219e+00 7.45334431e+00 6.69232893e+00]\n",
      " [2.64919558e+00 6.63348344e-01 3.70084198e+00]\n",
      " [6.29717507e+00 2.10174010e+00 7.52755554e+00]\n",
      " [6.65364814e-01 2.60315099e+00 8.04754564e+00]\n",
      " [1.93434283e+00 6.39460881e+00 5.24670309e+00]\n",
      " [9.24807970e+00 2.63296770e+00 6.59610907e-01]\n",
      " [7.35065963e+00 7.72178030e+00 9.07815853e+00]\n",
      " [9.31972069e+00 1.39515730e-01 2.34362086e+00]\n",
      " [6.16778357e+00 9.49016321e+00 9.50176119e+00]\n",
      " [5.56653188e+00 9.15606350e+00 6.41566209e+00]\n",
      " [3.90007714e+00 4.85990667e+00 6.04310483e+00]\n",
      " [5.49547922e+00 9.26181427e+00 9.18733436e+00]\n",
      " [3.94875613e+00 9.63262528e+00 1.73955667e+00]\n",
      " [1.26329519e+00 1.35079158e+00 5.05662166e+00]\n",
      " [2.15248053e-01 9.47970211e+00 8.27115471e+00]\n",
      " [1.50189807e-01 1.76196256e+00 3.32063574e+00]\n",
      " [1.30996845e+00 8.09490692e+00 3.44736653e+00]\n",
      " [9.40107482e+00 5.82014180e+00 8.78831984e+00]\n",
      " [8.44734445e+00 9.05392319e+00 4.59880266e+00]\n",
      " [5.46346816e+00 7.98603591e+00 2.85718852e+00]\n",
      " [4.90253523e+00 5.99110308e+00 1.55332756e-01]\n",
      " [5.93481408e+00 4.33676349e+00 8.07360529e+00]\n",
      " [3.15244803e+00 8.92888709e+00 5.77857215e+00]\n",
      " [1.84010202e+00 7.87929234e+00 6.12031177e+00]\n",
      " [5.39092721e-01 4.20193680e+00 6.79068837e+00]\n",
      " [9.18601778e+00 4.02024891e-03 9.76759149e+00]\n",
      " [3.76580315e+00 9.73783538e+00 6.04716101e+00]\n",
      " [8.28845808e+00 5.74711505e+00 6.28076198e+00]\n",
      " [2.85576282e+00 5.86833341e+00 7.50021764e+00]\n",
      " [8.58313836e+00 7.55082188e+00 6.98057248e+00]\n",
      " [8.64479430e+00 3.22680997e+00 6.70788791e+00]\n",
      " [4.50873936e+00 3.82102752e+00 4.10811350e+00]\n",
      " [4.01479583e+00 3.17383946e+00 6.21919368e+00]\n",
      " [4.30247271e+00 9.73802078e+00 6.77800891e+00]\n",
      " [1.98569888e+00 4.26701009e+00 3.43346240e+00]\n",
      " [7.97638804e+00 8.79998289e+00 9.03841956e+00]\n",
      " [6.62719812e+00 2.70208262e+00 2.52366702e+00]\n",
      " [8.54897943e+00 5.27714646e+00 8.02161084e+00]\n",
      " [5.72488517e+00 7.33142525e+00 5.19011627e+00]\n",
      " [7.70883911e+00 5.68857991e+00 4.65709879e+00]\n",
      " [3.42688908e+00 6.82093484e-01 3.77924179e+00]\n",
      " [7.96260777e-01 9.82817114e+00 1.81612851e+00]]\n",
      "0.5000000000000173\n",
      "[ 1.5 -2.   1. ]\n"
     ]
    }
   ],
   "source": [
    "rng = np.random.RandomState(1)\n",
    "X = 10 * rng.rand(100, 3)\n",
    "print(X)\n",
    "y = 0.5 + np.dot(X, [1.5, -2., 1.])\n",
    "\n",
    "model.fit(X, y)\n",
    "print(model.intercept_)\n",
    "print(model.coef_)"
   ]
  },
  {
   "cell_type": "markdown",
   "id": "d12a5292",
   "metadata": {},
   "source": [
    "Here the $y$ data is constructed from three random $x$ values, and the linear regression recovers the coefficients used to construct the data.\n",
    "\n",
    "In this way, we can use the single ``LinearRegression`` estimator to fit lines, planes, or hyperplanes to our data.\n",
    "It still appears that this approach would be limited to strictly linear relationships between variables, but it turns out we can relax this as well."
   ]
  },
  {
   "cell_type": "markdown",
   "id": "6e07d80f",
   "metadata": {},
   "source": [
    "## Basis Function Regression\n",
    "\n",
    "One trick you can use to adapt linear regression to nonlinear relationships between variables is to transform the data according to *basis functions*.\n",
    "We have seen one version of this before, in the ``PolynomialRegression`` pipeline used in [Hyperparameters and Model Validation](05.03-Hyperparameters-and-Model-Validation.ipynb) and [Feature Engineering](05.04-Feature-Engineering.ipynb).\n",
    "The idea is to take our multidimensional linear model:\n",
    "$$\n",
    "y = a_0 + a_1 x_1 + a_2 x_2 + a_3 x_3 + \\cdots\n",
    "$$\n",
    "and build the $x_1, x_2, x_3,$ and so on, from our single-dimensional input $x$.\n",
    "That is, we let $x_n = f_n(x)$, where $f_n()$ is some function that transforms our data.\n",
    "\n",
    "For example, if $f_n(x) = x^n$, our model becomes a polynomial regression:\n",
    "$$\n",
    "y = a_0 + a_1 x + a_2 x^2 + a_3 x^3 + \\cdots\n",
    "$$\n",
    "Notice that this is *still a linear model*—the linearity refers to the fact that the coefficients $a_n$ never multiply or divide each other.\n",
    "What we have effectively done is taken our one-dimensional $x$ values and projected them into a higher dimension, so that a linear fit can fit more complicated relationships between $x$ and $y$."
   ]
  },
  {
   "cell_type": "markdown",
   "id": "00bf6519",
   "metadata": {},
   "source": [
    "### Polynomial basis functions\n",
    "\n",
    "This polynomial projection is useful enough that it is built into Scikit-Learn, using the ``PolynomialFeatures`` transformer:"
   ]
  },
  {
   "cell_type": "code",
   "execution_count": null,
   "id": "1a051e1f",
   "metadata": {},
   "outputs": [],
   "source": [
    "from sklearn.preprocessing import PolynomialFeatures\n",
    "x2 = np.array([2, 3, 4])\n",
    "poly = PolynomialFeatures(3, include_bias=False)\n",
    "poly.fit_transform(x2[:, None])"
   ]
  },
  {
   "cell_type": "markdown",
   "id": "342a32b2",
   "metadata": {},
   "source": [
    "We see here that the transformer has converted our one-dimensional array into a three-dimensional array by taking the exponent of each value.\n",
    "This new, higher-dimensional data representation can then be plugged into a linear regression.\n",
    "\n",
    "As we saw in [Feature Engineering](05.04-Feature-Engineering.ipynb), the cleanest way to accomplish this is to use a pipeline.\n",
    "Let's make a 7th-degree polynomial model in this way:"
   ]
  },
  {
   "cell_type": "code",
   "execution_count": null,
   "id": "5b3fbc3b",
   "metadata": {},
   "outputs": [],
   "source": [
    "from sklearn.pipeline import make_pipeline\n",
    "poly_model = make_pipeline(PolynomialFeatures(7),\n",
    "                           LinearRegression())"
   ]
  },
  {
   "cell_type": "markdown",
   "id": "b0dfda35",
   "metadata": {},
   "source": [
    "With this transform in place, we can use the linear model to fit much more complicated relationships between $x$ and $y$. \n",
    "For example, here is a sine wave with noise:"
   ]
  },
  {
   "cell_type": "code",
   "execution_count": null,
   "id": "a60ef4e0",
   "metadata": {},
   "outputs": [],
   "source": [
    "rng = np.random.RandomState(1)\n",
    "x3 = 10 * rng.rand(50)\n",
    "y3 = np.sin(x) + 0.1 * rng.randn(50)\n",
    "\n",
    "poly_model.fit(x3[:, np.newaxis], y3)\n",
    "yfit = poly_model.predict(xfit[:, np.newaxis])\n",
    "\n",
    "plt.scatter(x3, y3)\n",
    "plt.plot(xfit, yfit);"
   ]
  },
  {
   "cell_type": "markdown",
   "id": "f82cf021",
   "metadata": {},
   "source": [
    "Our linear model, through the use of 7th-order polynomial basis functions, can provide an excellent fit to this non-linear data!"
   ]
  },
  {
   "cell_type": "code",
   "execution_count": null,
   "id": "e219e6d3",
   "metadata": {},
   "outputs": [],
   "source": []
  }
 ],
 "metadata": {
  "kernelspec": {
   "display_name": "Python 3.9 (Conda 2022.05) [python/3.9-2022.05]",
   "language": "python",
   "name": "python39_202205"
  },
  "language_info": {
   "codemirror_mode": {
    "name": "ipython",
    "version": 3
   },
   "file_extension": ".py",
   "mimetype": "text/x-python",
   "name": "python",
   "nbconvert_exporter": "python",
   "pygments_lexer": "ipython3",
   "version": "3.9.12"
  },
  "vscode": {
   "interpreter": {
    "hash": "aee8b7b246df8f9039afb4144a1f6fd8d2ca17a180786b69acc140d282b71a49"
   }
  }
 },
 "nbformat": 4,
 "nbformat_minor": 5
}
