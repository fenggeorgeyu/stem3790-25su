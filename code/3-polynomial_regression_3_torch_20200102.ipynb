{
 "cells": [
  {
   "cell_type": "code",
   "execution_count": 1,
   "metadata": {},
   "outputs": [
    {
     "name": "stdout",
     "output_type": "stream",
     "text": [
      "\r\n",
      "The following have been reloaded with a version change:\r\n",
      "  1) cuda/11.8.0 => cuda/10.2.89\r\n",
      "\r\n"
     ]
    }
   ],
   "source": [
    "# settings on osc gpu\n",
    "!module load cuda\n",
    "!module load pytorch"
   ]
  },
  {
   "cell_type": "code",
   "execution_count": 2,
   "metadata": {},
   "outputs": [
    {
     "name": "stdout",
     "output_type": "stream",
     "text": [
      "_CudaDeviceProperties(name='Tesla V100-PCIE-16GB', major=7, minor=0, total_memory=16144MB, multi_processor_count=80, uuid=22a52d90-379f-7608-7f7f-3939cae88dfb, L2_cache_size=6MB)\n"
     ]
    }
   ],
   "source": [
    "import torch\n",
    "from torch.autograd import Variable\n",
    "import torch.nn as nn\n",
    "import torch.optim as optim\n",
    "import numpy as np\n",
    "import matplotlib.pyplot as plt\n",
    "if torch.cuda.is_available():\n",
    "    print(torch.cuda.get_device_properties(0))"
   ]
  },
  {
   "cell_type": "code",
   "execution_count": 3,
   "metadata": {},
   "outputs": [],
   "source": [
    "# doc: torch.unsqueeze()\n",
    "# https://pytorch.org/docs/stable/torch.html#torch.unsqueeze\n",
    "# doc: torch. squeeze()\n",
    "# https://pytorch.org/docs/stable/torch.html#torch.squeeze\n",
    "\n",
    "def make_features(x):\n",
    "    \"\"\"build features i.e. a matrix with columns [x, x^2, x^3]\"\"\"\n",
    "    x=x.unsqueeze(1)\n",
    "    return torch.cat([x**i for i in range(1,4)],1)\n",
    "\n",
    "def f(x):\n",
    "    w_target = torch.FloatTensor([0.5,3,2.4]).unsqueeze(1)\n",
    "    b_target = torch.FloatTensor([0.9])\n",
    "    return x.mm(w_target)+b_target\n",
    "\n",
    "def get_batch(batch_size=32):\n",
    "    \"\"\"builds a batch i.e. (x, f(x)) pairs\"\"\"\n",
    "    random = torch.randn(batch_size)\n",
    "    x = make_features(random)\n",
    "    y = f(x)\n",
    "    if torch.cuda.is_available:\n",
    "        return Variable(x).cuda(), Variable(y).cuda()\n",
    "    else:\n",
    "        return Variable(x), Variable(y)"
   ]
  },
  {
   "cell_type": "code",
   "execution_count": 5,
   "metadata": {},
   "outputs": [],
   "source": [
    "# define model\n",
    "class PolyRegression(nn.Module):\n",
    "    def __init__(self):\n",
    "        super(PolyRegression,self).__init__()\n",
    "        self.model=nn.Linear(3,1)\n",
    "    \n",
    "    def forward(self, x):\n",
    "        return self.model(x)\n",
    "\n",
    "# init model\n",
    "if torch.cuda.is_available:\n",
    "    model=PolyRegression().cuda()\n",
    "else:\n",
    "    model=PolyRegression()"
   ]
  },
  {
   "cell_type": "code",
   "execution_count": 6,
   "metadata": {
    "scrolled": true
   },
   "outputs": [
    {
     "name": "stdout",
     "output_type": "stream",
     "text": [
      "Epoch   100/ 1000, loss = 20.296333\n",
      "Epoch   200/ 1000, loss = 3.969561\n",
      "Epoch   300/ 1000, loss = 0.835944\n",
      "Epoch   400/ 1000, loss = 0.192312\n",
      "Epoch   500/ 1000, loss = 0.081080\n",
      "Epoch   600/ 1000, loss = 0.067823\n",
      "Epoch   700/ 1000, loss = 0.093945\n",
      "Epoch   800/ 1000, loss = 0.030801\n",
      "Epoch   900/ 1000, loss = 0.028830\n",
      "Epoch  1000/ 1000, loss = 0.019441\n"
     ]
    }
   ],
   "source": [
    "num_epochs=10**3\n",
    "criterion = nn.MSELoss()\n",
    "optimizer = optim.SGD(model.parameters(),lr=1e-3)\n",
    "for epoch in range(num_epochs):\n",
    "    # forward\n",
    "    batch_x, batch_y = get_batch()\n",
    "    output = model(batch_x)\n",
    "    loss = criterion(output, batch_y)\n",
    "    #backword\n",
    "    optimizer.zero_grad()\n",
    "    loss.backward()\n",
    "    optimizer.step()\n",
    "    if (epoch+1) % (num_epochs/10) == 0:\n",
    "        print('Epoch {:5d}/{:5d}, loss = {:.6f}'.format((epoch+1), num_epochs, loss.data))"
   ]
  },
  {
   "cell_type": "code",
   "execution_count": 7,
   "metadata": {
    "scrolled": false
   },
   "outputs": [
    {
     "data": {
      "image/png": "[encoded data removed]",
      "text/plain": [
       "<Figure size 432x288 with 1 Axes>"
      ]
     },
     "metadata": {
      "needs_background": "light"
     },
     "output_type": "display_data"
    }
   ],
   "source": [
    "# print results\n",
    "model.eval()\n",
    "batch_x1, batch_y1 = get_batch(10**3)\n",
    "predict = model(batch_x1).cpu()\n",
    "predict = predict.data.numpy()\n",
    "batch_x1 = batch_x1.cpu()\n",
    "batch_x = batch_x.cpu()\n",
    "batch_y = batch_y.cpu()\n",
    "# display(batch_x[:,0])\n",
    "# display(batch_y)\n",
    "# display(predict)\n",
    "plt.plot(batch_x1.numpy()[:,0], predict, '.', label='predict')\n",
    "plt.plot(batch_x.numpy()[:,0], batch_y.numpy(),'ro', label='original data')\n",
    "plt.legend()\n",
    "plt.show()"
   ]
  },
  {
   "cell_type": "code",
   "execution_count": 4,
   "metadata": {},
   "outputs": [],
   "source": [
    "# x_train = np.array([[3.3],[4.4],[5.5],[6.71],[6.93],[4.168],[9.779],\n",
    "#                     [6.182],[7.59],[2.167],[7.042],[10.791],[5.313],[7.997],\n",
    "#                     [3.1]],dtype=np.float32)\n",
    "# y_train = np.array([[1.7],[2.76],[2.09],[3.19],[1.694],[1.573],\n",
    "#                    [3.366],[2.596],[2.53],[1.221],[2.827],\n",
    "#                    [3.465],[1.65],[2.904],[1.3]],dtype=np.float32)\n",
    "# # x_train = np.array([3.3,4.4,5.5,6.71,6.93,4.168,9.779,\n",
    "# #                     6.182,7.59,2.167,7.042,10.791,5.313,7.997,\n",
    "# #                     3.1],dtype=np.float32)\n",
    "# # y_train = np.array([1.7,2.76,2.09,3.19,1.694,1.573,\n",
    "# #                    3.366,2.596,2.53,1.221,2.827,\n",
    "# #                    3.465,1.65,2.904,1.3],dtype=np.float32)\n",
    "# x_train = torch.from_numpy(x_train)\n",
    "# y_train = torch.from_numpy(y_train)\n",
    "# x_train=x_train.squeeze(1)\n",
    "# y_train=y_train.squeeze(1)\n",
    "# batch_x=make_features(x_train)\n",
    "# batch_y=make_features(y_train)\n",
    "# if torch.cuda.is_available():\n",
    "#     batch_x=Variable(batch_x).cuda()\n",
    "#     batch_y=Variable(batch_y).cuda()\n",
    "# else:\n",
    "#     batch_x=Variable(batch_x)\n",
    "#     batch_y=Variable(batch_y)\n",
    "# display(batch_x.size())\n",
    "# display(batch_y.size())\n",
    "# display(batch_x)"
   ]
  }
 ],
 "metadata": {
  "kernelspec": {
   "display_name": "Python 3.9 (Conda 2022.05) [python/3.9-2022.05]",
   "language": "python",
   "name": "python39_202205"
  },
  "language_info": {
   "codemirror_mode": {
    "name": "ipython",
    "version": 3
   },
   "file_extension": ".py",
   "mimetype": "text/x-python",
   "name": "python",
   "nbconvert_exporter": "python",
   "pygments_lexer": "ipython3",
   "version": "3.9.12"
  }
 },
 "nbformat": 4,
 "nbformat_minor": 2
}
